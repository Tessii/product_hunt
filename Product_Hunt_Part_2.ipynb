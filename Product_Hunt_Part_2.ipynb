{
 "cells": [
  {
   "cell_type": "code",
   "execution_count": 1,
   "metadata": {},
   "outputs": [],
   "source": [
    "from collections import Counter\n",
    "from imblearn.over_sampling import SMOTE\n",
    "import matplotlib\n",
    "import matplotlib.pyplot as plt\n",
    "import numpy as np\n",
    "import pandas as pd\n",
    "import seaborn as sns\n",
    "from sklearn import metrics\n",
    "from sklearn.feature_selection import RFE\n",
    "from sklearn.metrics import classification_report\n",
    "from sklearn.model_selection import train_test_split\n",
    "from sklearn.neighbors import KNeighborsClassifier\n",
    "from sklearn.ensemble import RandomForestClassifier\n",
    "from sklearn.ensemble import ExtraTreesClassifier\n",
    "from sklearn.tree import DecisionTreeClassifier\n",
    "from sklearn.inspection import permutation_importance\n",
    "from sklearn import svm\n",
    "from string import ascii_letters\n",
    "import time"
   ]
  },
  {
   "cell_type": "code",
   "execution_count": 2,
   "metadata": {},
   "outputs": [
    {
     "data": {
      "text/html": [
       "<div>\n",
       "<style scoped>\n",
       "    .dataframe tbody tr th:only-of-type {\n",
       "        vertical-align: middle;\n",
       "    }\n",
       "\n",
       "    .dataframe tbody tr th {\n",
       "        vertical-align: top;\n",
       "    }\n",
       "\n",
       "    .dataframe thead th {\n",
       "        text-align: right;\n",
       "    }\n",
       "</style>\n",
       "<table border=\"1\" class=\"dataframe\">\n",
       "  <thead>\n",
       "    <tr style=\"text-align: right;\">\n",
       "      <th></th>\n",
       "      <th>Unnamed: 0</th>\n",
       "      <th>featured</th>\n",
       "      <th>weekday</th>\n",
       "      <th>len_name</th>\n",
       "      <th>len_description</th>\n",
       "      <th>post_id</th>\n",
       "      <th>post_name</th>\n",
       "      <th>post_description</th>\n",
       "      <th>reviews_rating</th>\n",
       "      <th>topics_count</th>\n",
       "    </tr>\n",
       "  </thead>\n",
       "  <tbody>\n",
       "    <tr>\n",
       "      <th>0</th>\n",
       "      <td>0</td>\n",
       "      <td>0</td>\n",
       "      <td>4</td>\n",
       "      <td>28</td>\n",
       "      <td>159</td>\n",
       "      <td>285247</td>\n",
       "      <td>SMART Operational Management</td>\n",
       "      <td>If remote teams and outsourcing were already o...</td>\n",
       "      <td>0.0</td>\n",
       "      <td>1</td>\n",
       "    </tr>\n",
       "    <tr>\n",
       "      <th>1</th>\n",
       "      <td>1</td>\n",
       "      <td>0</td>\n",
       "      <td>4</td>\n",
       "      <td>17</td>\n",
       "      <td>261</td>\n",
       "      <td>285246</td>\n",
       "      <td>siscertifications</td>\n",
       "      <td>ISO 14001 certification has become the interna...</td>\n",
       "      <td>0.0</td>\n",
       "      <td>1</td>\n",
       "    </tr>\n",
       "    <tr>\n",
       "      <th>2</th>\n",
       "      <td>2</td>\n",
       "      <td>0</td>\n",
       "      <td>4</td>\n",
       "      <td>28</td>\n",
       "      <td>256</td>\n",
       "      <td>285245</td>\n",
       "      <td>KSemantics for Google Sheets</td>\n",
       "      <td>KSemantics is an AI-powered Google Sheets add-...</td>\n",
       "      <td>0.0</td>\n",
       "      <td>4</td>\n",
       "    </tr>\n",
       "    <tr>\n",
       "      <th>3</th>\n",
       "      <td>3</td>\n",
       "      <td>0</td>\n",
       "      <td>4</td>\n",
       "      <td>37</td>\n",
       "      <td>180</td>\n",
       "      <td>285244</td>\n",
       "      <td>Best Mental Health Services in Lahore</td>\n",
       "      <td>Psychconsultants provides best mental health s...</td>\n",
       "      <td>0.0</td>\n",
       "      <td>2</td>\n",
       "    </tr>\n",
       "    <tr>\n",
       "      <th>4</th>\n",
       "      <td>4</td>\n",
       "      <td>0</td>\n",
       "      <td>4</td>\n",
       "      <td>9</td>\n",
       "      <td>122</td>\n",
       "      <td>285243</td>\n",
       "      <td>Whitebird</td>\n",
       "      <td>Whitebird is an open-source, web-based, collab...</td>\n",
       "      <td>0.0</td>\n",
       "      <td>2</td>\n",
       "    </tr>\n",
       "  </tbody>\n",
       "</table>\n",
       "</div>"
      ],
      "text/plain": [
       "   Unnamed: 0  featured  weekday  len_name  len_description  post_id  \\\n",
       "0           0         0        4        28              159   285247   \n",
       "1           1         0        4        17              261   285246   \n",
       "2           2         0        4        28              256   285245   \n",
       "3           3         0        4        37              180   285244   \n",
       "4           4         0        4         9              122   285243   \n",
       "\n",
       "                               post_name  \\\n",
       "0           SMART Operational Management   \n",
       "1                      siscertifications   \n",
       "2           KSemantics for Google Sheets   \n",
       "3  Best Mental Health Services in Lahore   \n",
       "4                              Whitebird   \n",
       "\n",
       "                                    post_description  reviews_rating  \\\n",
       "0  If remote teams and outsourcing were already o...             0.0   \n",
       "1  ISO 14001 certification has become the interna...             0.0   \n",
       "2  KSemantics is an AI-powered Google Sheets add-...             0.0   \n",
       "3  Psychconsultants provides best mental health s...             0.0   \n",
       "4  Whitebird is an open-source, web-based, collab...             0.0   \n",
       "\n",
       "   topics_count  \n",
       "0             1  \n",
       "1             1  \n",
       "2             4  \n",
       "3             2  \n",
       "4             2  "
      ]
     },
     "execution_count": 2,
     "metadata": {},
     "output_type": "execute_result"
    }
   ],
   "source": [
    "posts = pd.read_csv('posts_cleaned.csv')\n",
    "posts.head()"
   ]
  },
  {
   "cell_type": "code",
   "execution_count": 3,
   "metadata": {},
   "outputs": [
    {
     "data": {
      "text/html": [
       "<div>\n",
       "<style scoped>\n",
       "    .dataframe tbody tr th:only-of-type {\n",
       "        vertical-align: middle;\n",
       "    }\n",
       "\n",
       "    .dataframe tbody tr th {\n",
       "        vertical-align: top;\n",
       "    }\n",
       "\n",
       "    .dataframe thead th {\n",
       "        text-align: right;\n",
       "    }\n",
       "</style>\n",
       "<table border=\"1\" class=\"dataframe\">\n",
       "  <thead>\n",
       "    <tr style=\"text-align: right;\">\n",
       "      <th></th>\n",
       "      <th>Unnamed: 0</th>\n",
       "      <th>post_id</th>\n",
       "      <th>topic_id</th>\n",
       "    </tr>\n",
       "  </thead>\n",
       "  <tbody>\n",
       "    <tr>\n",
       "      <th>0</th>\n",
       "      <td>0</td>\n",
       "      <td>285247</td>\n",
       "      <td>46</td>\n",
       "    </tr>\n",
       "    <tr>\n",
       "      <th>1</th>\n",
       "      <td>1</td>\n",
       "      <td>285246</td>\n",
       "      <td>46</td>\n",
       "    </tr>\n",
       "    <tr>\n",
       "      <th>2</th>\n",
       "      <td>2</td>\n",
       "      <td>285245</td>\n",
       "      <td>46</td>\n",
       "    </tr>\n",
       "    <tr>\n",
       "      <th>3</th>\n",
       "      <td>3</td>\n",
       "      <td>285245</td>\n",
       "      <td>108</td>\n",
       "    </tr>\n",
       "    <tr>\n",
       "      <th>4</th>\n",
       "      <td>4</td>\n",
       "      <td>285245</td>\n",
       "      <td>268</td>\n",
       "    </tr>\n",
       "  </tbody>\n",
       "</table>\n",
       "</div>"
      ],
      "text/plain": [
       "   Unnamed: 0  post_id  topic_id\n",
       "0           0   285247        46\n",
       "1           1   285246        46\n",
       "2           2   285245        46\n",
       "3           3   285245       108\n",
       "4           4   285245       268"
      ]
     },
     "execution_count": 3,
     "metadata": {},
     "output_type": "execute_result"
    }
   ],
   "source": [
    "mappings = pd.read_csv('mapping_cleaned.csv')\n",
    "mappings.head()"
   ]
  },
  {
   "cell_type": "code",
   "execution_count": 4,
   "metadata": {},
   "outputs": [
    {
     "data": {
      "text/html": [
       "<div>\n",
       "<style scoped>\n",
       "    .dataframe tbody tr th:only-of-type {\n",
       "        vertical-align: middle;\n",
       "    }\n",
       "\n",
       "    .dataframe tbody tr th {\n",
       "        vertical-align: top;\n",
       "    }\n",
       "\n",
       "    .dataframe thead th {\n",
       "        text-align: right;\n",
       "    }\n",
       "</style>\n",
       "<table border=\"1\" class=\"dataframe\">\n",
       "  <thead>\n",
       "    <tr style=\"text-align: right;\">\n",
       "      <th></th>\n",
       "      <th>Unnamed: 0</th>\n",
       "      <th>year</th>\n",
       "      <th>followers_count</th>\n",
       "      <th>posts_count</th>\n",
       "      <th>topic_id</th>\n",
       "    </tr>\n",
       "  </thead>\n",
       "  <tbody>\n",
       "    <tr>\n",
       "      <th>0</th>\n",
       "      <td>0</td>\n",
       "      <td>2020</td>\n",
       "      <td>69</td>\n",
       "      <td>20</td>\n",
       "      <td>472</td>\n",
       "    </tr>\n",
       "    <tr>\n",
       "      <th>1</th>\n",
       "      <td>1</td>\n",
       "      <td>2020</td>\n",
       "      <td>107</td>\n",
       "      <td>76</td>\n",
       "      <td>471</td>\n",
       "    </tr>\n",
       "    <tr>\n",
       "      <th>2</th>\n",
       "      <td>2</td>\n",
       "      <td>2020</td>\n",
       "      <td>174</td>\n",
       "      <td>77</td>\n",
       "      <td>470</td>\n",
       "    </tr>\n",
       "    <tr>\n",
       "      <th>3</th>\n",
       "      <td>3</td>\n",
       "      <td>2020</td>\n",
       "      <td>190</td>\n",
       "      <td>92</td>\n",
       "      <td>469</td>\n",
       "    </tr>\n",
       "    <tr>\n",
       "      <th>4</th>\n",
       "      <td>4</td>\n",
       "      <td>2020</td>\n",
       "      <td>157</td>\n",
       "      <td>86</td>\n",
       "      <td>468</td>\n",
       "    </tr>\n",
       "  </tbody>\n",
       "</table>\n",
       "</div>"
      ],
      "text/plain": [
       "   Unnamed: 0  year  followers_count  posts_count  topic_id\n",
       "0           0  2020               69           20       472\n",
       "1           1  2020              107           76       471\n",
       "2           2  2020              174           77       470\n",
       "3           3  2020              190           92       469\n",
       "4           4  2020              157           86       468"
      ]
     },
     "execution_count": 4,
     "metadata": {},
     "output_type": "execute_result"
    }
   ],
   "source": [
    "topics = pd.read_csv('topics_cleaned.csv')\n",
    "topics.head()"
   ]
  },
  {
   "cell_type": "markdown",
   "metadata": {},
   "source": [
    "## Data Preperation for Machine Learning"
   ]
  },
  {
   "cell_type": "code",
   "execution_count": 5,
   "metadata": {},
   "outputs": [],
   "source": [
    "# drop unneeded columns\n",
    "topics = topics.drop(columns=['Unnamed: 0'])\n",
    "posts = posts.drop(columns=['Unnamed: 0', 'post_name', 'post_description'])\n",
    "mappings = mappings.drop(columns=['Unnamed: 0'])"
   ]
  },
  {
   "cell_type": "code",
   "execution_count": 6,
   "metadata": {},
   "outputs": [],
   "source": [
    "# merge topics with mapping\n",
    "topics_enhanced = pd.merge(mappings, topics, on='topic_id', how='left')"
   ]
  },
  {
   "cell_type": "code",
   "execution_count": 8,
   "metadata": {},
   "outputs": [
    {
     "data": {
      "text/plain": [
       "post_id            0\n",
       "topic_id           0\n",
       "year               0\n",
       "followers_count    0\n",
       "posts_count        0\n",
       "dtype: int64"
      ]
     },
     "execution_count": 8,
     "metadata": {},
     "output_type": "execute_result"
    }
   ],
   "source": [
    "topics_enhanced.isna().sum()"
   ]
  },
  {
   "cell_type": "code",
   "execution_count": 9,
   "metadata": {},
   "outputs": [
    {
     "data": {
      "text/html": [
       "<div>\n",
       "<style scoped>\n",
       "    .dataframe tbody tr th:only-of-type {\n",
       "        vertical-align: middle;\n",
       "    }\n",
       "\n",
       "    .dataframe tbody tr th {\n",
       "        vertical-align: top;\n",
       "    }\n",
       "\n",
       "    .dataframe thead th {\n",
       "        text-align: right;\n",
       "    }\n",
       "</style>\n",
       "<table border=\"1\" class=\"dataframe\">\n",
       "  <thead>\n",
       "    <tr style=\"text-align: right;\">\n",
       "      <th></th>\n",
       "      <th>post_id</th>\n",
       "      <th>topic_list</th>\n",
       "      <th>newest_topic_year</th>\n",
       "      <th>total_topics_posts</th>\n",
       "      <th>total_topics_followers</th>\n",
       "    </tr>\n",
       "  </thead>\n",
       "  <tbody>\n",
       "    <tr>\n",
       "      <th>0</th>\n",
       "      <td>285247</td>\n",
       "      <td>[46]</td>\n",
       "      <td>2016</td>\n",
       "      <td>42928</td>\n",
       "      <td>415416</td>\n",
       "    </tr>\n",
       "    <tr>\n",
       "      <th>1</th>\n",
       "      <td>285246</td>\n",
       "      <td>[46]</td>\n",
       "      <td>2016</td>\n",
       "      <td>42928</td>\n",
       "      <td>415416</td>\n",
       "    </tr>\n",
       "    <tr>\n",
       "      <th>2</th>\n",
       "      <td>285245</td>\n",
       "      <td>[46, 108, 268, 352]</td>\n",
       "      <td>2016</td>\n",
       "      <td>174059</td>\n",
       "      <td>1136469</td>\n",
       "    </tr>\n",
       "    <tr>\n",
       "      <th>3</th>\n",
       "      <td>285244</td>\n",
       "      <td>[164, 352]</td>\n",
       "      <td>2016</td>\n",
       "      <td>140349</td>\n",
       "      <td>554742</td>\n",
       "    </tr>\n",
       "    <tr>\n",
       "      <th>4</th>\n",
       "      <td>285243</td>\n",
       "      <td>[46, 272]</td>\n",
       "      <td>2016</td>\n",
       "      <td>45451</td>\n",
       "      <td>449662</td>\n",
       "    </tr>\n",
       "  </tbody>\n",
       "</table>\n",
       "</div>"
      ],
      "text/plain": [
       "  post_id           topic_list newest_topic_year total_topics_posts  \\\n",
       "0  285247                 [46]              2016              42928   \n",
       "1  285246                 [46]              2016              42928   \n",
       "2  285245  [46, 108, 268, 352]              2016             174059   \n",
       "3  285244           [164, 352]              2016             140349   \n",
       "4  285243            [46, 272]              2016              45451   \n",
       "\n",
       "  total_topics_followers  \n",
       "0                 415416  \n",
       "1                 415416  \n",
       "2                1136469  \n",
       "3                 554742  \n",
       "4                 449662  "
      ]
     },
     "execution_count": 9,
     "metadata": {},
     "output_type": "execute_result"
    }
   ],
   "source": [
    "# create a list of unique posts\n",
    "unique_post_ids = mappings.post_id.unique().tolist()\n",
    "\n",
    "# create an empty dataframe\n",
    "interims_df = pd.DataFrame(columns=['post_id',\n",
    "                                    'topic_list',\n",
    "                                    'newest_topic_year',\n",
    "                                    'total_topics_posts',\n",
    "                                    'total_topics_followers'])\n",
    "\n",
    "for post_id in (unique_post_ids):\n",
    "    #print(post_id)\n",
    "    topics = []\n",
    "    oldest_topic_year = 0\n",
    "    total_topics_posts = 0\n",
    "    total_topics_followers = 0\n",
    "    newest_topic_year = 0\n",
    "    mini_post_df = topics_enhanced.loc[topics_enhanced['post_id'] == post_id].reset_index()\n",
    "    for i in range(len(mini_post_df)):\n",
    "        #print(i)\n",
    "        #print(mini_post_df.loc[[i]])\n",
    "        row = mini_post_df.loc[[i]]\n",
    "        #print(row.topic_id)\n",
    "        topics.append(int(row.topic_id))\n",
    "        #print(\"Total \" + str(type(total_topics_posts)))\n",
    "        #print(\"Added \" + str(row.posts_count))\n",
    "        total_topics_posts += int(row.posts_count)\n",
    "        #print(\"Total \" + str(total_topics_posts))\n",
    "        total_topics_followers += int(row.followers_count)\n",
    "        #print(\"Total_f \" + str(total_topics_followers))\n",
    "        if (mini_post_df.loc[i,'year']) > newest_topic_year:\n",
    "            newest_topic_year = (mini_post_df.loc[i,'year'])\n",
    "    new_row = pd.Series(data={'post_id': post_id ,\n",
    "               'topic_list' : topics,\n",
    "               'newest_topic_year': newest_topic_year,\n",
    "               'total_topics_posts': total_topics_posts,\n",
    "               'total_topics_followers': total_topics_followers})\n",
    "    \n",
    "    interims_df = interims_df.append(new_row, ignore_index=True)\n",
    "    #print(post_topics_df.head())\n",
    "interims_df.head()"
   ]
  },
  {
   "cell_type": "code",
   "execution_count": 10,
   "metadata": {},
   "outputs": [],
   "source": [
    "# Convert columns to int\n",
    "c_to_numeric = ['post_id',\n",
    "                'newest_topic_year',\n",
    "                'total_topics_posts',\n",
    "                'total_topics_followers']\n",
    "interims_df[c_to_numeric] =  interims_df[c_to_numeric].apply(pd.to_numeric)"
   ]
  },
  {
   "cell_type": "code",
   "execution_count": 11,
   "metadata": {},
   "outputs": [
    {
     "name": "stdout",
     "output_type": "stream",
     "text": [
      "26421\n",
      "28000\n"
     ]
    }
   ],
   "source": [
    "print(len(interims_df))\n",
    "print(len(posts))"
   ]
  },
  {
   "cell_type": "code",
   "execution_count": 12,
   "metadata": {},
   "outputs": [
    {
     "data": {
      "text/html": [
       "<div>\n",
       "<style scoped>\n",
       "    .dataframe tbody tr th:only-of-type {\n",
       "        vertical-align: middle;\n",
       "    }\n",
       "\n",
       "    .dataframe tbody tr th {\n",
       "        vertical-align: top;\n",
       "    }\n",
       "\n",
       "    .dataframe thead th {\n",
       "        text-align: right;\n",
       "    }\n",
       "</style>\n",
       "<table border=\"1\" class=\"dataframe\">\n",
       "  <thead>\n",
       "    <tr style=\"text-align: right;\">\n",
       "      <th></th>\n",
       "      <th>featured</th>\n",
       "      <th>weekday</th>\n",
       "      <th>len_name</th>\n",
       "      <th>len_description</th>\n",
       "      <th>post_id</th>\n",
       "      <th>reviews_rating</th>\n",
       "      <th>topics_count</th>\n",
       "      <th>topic_list</th>\n",
       "      <th>newest_topic_year</th>\n",
       "      <th>total_topics_posts</th>\n",
       "      <th>total_topics_followers</th>\n",
       "    </tr>\n",
       "  </thead>\n",
       "  <tbody>\n",
       "    <tr>\n",
       "      <th>0</th>\n",
       "      <td>0</td>\n",
       "      <td>4</td>\n",
       "      <td>28</td>\n",
       "      <td>159</td>\n",
       "      <td>285247</td>\n",
       "      <td>0.0</td>\n",
       "      <td>1</td>\n",
       "      <td>[46]</td>\n",
       "      <td>2016.0</td>\n",
       "      <td>42928.0</td>\n",
       "      <td>415416.0</td>\n",
       "    </tr>\n",
       "    <tr>\n",
       "      <th>1</th>\n",
       "      <td>0</td>\n",
       "      <td>4</td>\n",
       "      <td>17</td>\n",
       "      <td>261</td>\n",
       "      <td>285246</td>\n",
       "      <td>0.0</td>\n",
       "      <td>1</td>\n",
       "      <td>[46]</td>\n",
       "      <td>2016.0</td>\n",
       "      <td>42928.0</td>\n",
       "      <td>415416.0</td>\n",
       "    </tr>\n",
       "    <tr>\n",
       "      <th>2</th>\n",
       "      <td>0</td>\n",
       "      <td>4</td>\n",
       "      <td>28</td>\n",
       "      <td>256</td>\n",
       "      <td>285245</td>\n",
       "      <td>0.0</td>\n",
       "      <td>4</td>\n",
       "      <td>[46, 108, 268, 352]</td>\n",
       "      <td>2016.0</td>\n",
       "      <td>174059.0</td>\n",
       "      <td>1136469.0</td>\n",
       "    </tr>\n",
       "    <tr>\n",
       "      <th>3</th>\n",
       "      <td>0</td>\n",
       "      <td>4</td>\n",
       "      <td>37</td>\n",
       "      <td>180</td>\n",
       "      <td>285244</td>\n",
       "      <td>0.0</td>\n",
       "      <td>2</td>\n",
       "      <td>[164, 352]</td>\n",
       "      <td>2016.0</td>\n",
       "      <td>140349.0</td>\n",
       "      <td>554742.0</td>\n",
       "    </tr>\n",
       "    <tr>\n",
       "      <th>4</th>\n",
       "      <td>0</td>\n",
       "      <td>4</td>\n",
       "      <td>9</td>\n",
       "      <td>122</td>\n",
       "      <td>285243</td>\n",
       "      <td>0.0</td>\n",
       "      <td>2</td>\n",
       "      <td>[46, 272]</td>\n",
       "      <td>2016.0</td>\n",
       "      <td>45451.0</td>\n",
       "      <td>449662.0</td>\n",
       "    </tr>\n",
       "  </tbody>\n",
       "</table>\n",
       "</div>"
      ],
      "text/plain": [
       "   featured  weekday  len_name  len_description  post_id  reviews_rating  \\\n",
       "0         0        4        28              159   285247             0.0   \n",
       "1         0        4        17              261   285246             0.0   \n",
       "2         0        4        28              256   285245             0.0   \n",
       "3         0        4        37              180   285244             0.0   \n",
       "4         0        4         9              122   285243             0.0   \n",
       "\n",
       "   topics_count           topic_list  newest_topic_year  total_topics_posts  \\\n",
       "0             1                 [46]             2016.0             42928.0   \n",
       "1             1                 [46]             2016.0             42928.0   \n",
       "2             4  [46, 108, 268, 352]             2016.0            174059.0   \n",
       "3             2           [164, 352]             2016.0            140349.0   \n",
       "4             2            [46, 272]             2016.0             45451.0   \n",
       "\n",
       "   total_topics_followers  \n",
       "0                415416.0  \n",
       "1                415416.0  \n",
       "2               1136469.0  \n",
       "3                554742.0  \n",
       "4                449662.0  "
      ]
     },
     "execution_count": 12,
     "metadata": {},
     "output_type": "execute_result"
    }
   ],
   "source": [
    "merged_df = pd.merge(posts, interims_df, on='post_id', how='left')\n",
    "merged_df.head()\n",
    "\n",
    "\n",
    "#interims_df['post_id'] = posts.loc[:5344,'post_id']\n",
    "#merged_df = pd.merge(posts, interims_df, on='post_id', how='left')\n",
    "#merged_df.head()"
   ]
  },
  {
   "cell_type": "code",
   "execution_count": 13,
   "metadata": {},
   "outputs": [],
   "source": [
    "# fill columns with 0 with not topic\n",
    "merged_df['topic_list'] = merged_df['topic_list'].fillna('')\n",
    "merged_df['newest_topic_year'] = merged_df['newest_topic_year'].fillna(0)\n",
    "merged_df['total_topics_posts'] = merged_df['total_topics_posts'].fillna(0)\n",
    "merged_df['total_topics_followers'] = merged_df['total_topics_followers'].fillna(0)"
   ]
  },
  {
   "cell_type": "code",
   "execution_count": 14,
   "metadata": {},
   "outputs": [],
   "source": [
    "# Convert float to Int\n",
    "merged_df['newest_topic_year'] = merged_df['newest_topic_year'].astype(int) \n",
    "merged_df['total_topics_posts'] = merged_df['total_topics_posts'].astype(int) \n",
    "merged_df['total_topics_followers'] = merged_df['total_topics_followers'].astype(int) "
   ]
  },
  {
   "cell_type": "code",
   "execution_count": 15,
   "metadata": {},
   "outputs": [
    {
     "data": {
      "text/plain": [
       "Index(['featured', 'weekday', 'len_name', 'len_description', 'post_id',\n",
       "       'reviews_rating', 'topics_count', 'topic_list', 'newest_topic_year',\n",
       "       'total_topics_posts', 'total_topics_followers'],\n",
       "      dtype='object')"
      ]
     },
     "execution_count": 15,
     "metadata": {},
     "output_type": "execute_result"
    }
   ],
   "source": [
    "merged_df.columns"
   ]
  },
  {
   "cell_type": "code",
   "execution_count": 16,
   "metadata": {},
   "outputs": [],
   "source": [
    "#merged_df = merged_df.drop(columns=['post_name', 'post_description'])"
   ]
  },
  {
   "cell_type": "code",
   "execution_count": 17,
   "metadata": {},
   "outputs": [
    {
     "data": {
      "text/html": [
       "<div>\n",
       "<style scoped>\n",
       "    .dataframe tbody tr th:only-of-type {\n",
       "        vertical-align: middle;\n",
       "    }\n",
       "\n",
       "    .dataframe tbody tr th {\n",
       "        vertical-align: top;\n",
       "    }\n",
       "\n",
       "    .dataframe thead th {\n",
       "        text-align: right;\n",
       "    }\n",
       "</style>\n",
       "<table border=\"1\" class=\"dataframe\">\n",
       "  <thead>\n",
       "    <tr style=\"text-align: right;\">\n",
       "      <th></th>\n",
       "      <th>1.0</th>\n",
       "      <th>2.0</th>\n",
       "      <th>3.0</th>\n",
       "      <th>4.0</th>\n",
       "      <th>6.0</th>\n",
       "      <th>8.0</th>\n",
       "      <th>9.0</th>\n",
       "      <th>11.0</th>\n",
       "      <th>12.0</th>\n",
       "      <th>13.0</th>\n",
       "      <th>...</th>\n",
       "      <th>374.0</th>\n",
       "      <th>375.0</th>\n",
       "      <th>402.0</th>\n",
       "      <th>435.0</th>\n",
       "      <th>468.0</th>\n",
       "      <th>469.0</th>\n",
       "      <th>470.0</th>\n",
       "      <th>471.0</th>\n",
       "      <th>472.0</th>\n",
       "      <th></th>\n",
       "    </tr>\n",
       "  </thead>\n",
       "  <tbody>\n",
       "    <tr>\n",
       "      <th>0</th>\n",
       "      <td>0</td>\n",
       "      <td>0</td>\n",
       "      <td>0</td>\n",
       "      <td>0</td>\n",
       "      <td>0</td>\n",
       "      <td>0</td>\n",
       "      <td>0</td>\n",
       "      <td>0</td>\n",
       "      <td>0</td>\n",
       "      <td>0</td>\n",
       "      <td>...</td>\n",
       "      <td>0</td>\n",
       "      <td>0</td>\n",
       "      <td>0</td>\n",
       "      <td>0</td>\n",
       "      <td>0</td>\n",
       "      <td>0</td>\n",
       "      <td>0</td>\n",
       "      <td>0</td>\n",
       "      <td>0</td>\n",
       "      <td>0</td>\n",
       "    </tr>\n",
       "    <tr>\n",
       "      <th>1</th>\n",
       "      <td>0</td>\n",
       "      <td>0</td>\n",
       "      <td>0</td>\n",
       "      <td>0</td>\n",
       "      <td>0</td>\n",
       "      <td>0</td>\n",
       "      <td>0</td>\n",
       "      <td>0</td>\n",
       "      <td>0</td>\n",
       "      <td>0</td>\n",
       "      <td>...</td>\n",
       "      <td>0</td>\n",
       "      <td>0</td>\n",
       "      <td>0</td>\n",
       "      <td>0</td>\n",
       "      <td>0</td>\n",
       "      <td>0</td>\n",
       "      <td>0</td>\n",
       "      <td>0</td>\n",
       "      <td>0</td>\n",
       "      <td>0</td>\n",
       "    </tr>\n",
       "    <tr>\n",
       "      <th>2</th>\n",
       "      <td>0</td>\n",
       "      <td>0</td>\n",
       "      <td>0</td>\n",
       "      <td>0</td>\n",
       "      <td>0</td>\n",
       "      <td>0</td>\n",
       "      <td>0</td>\n",
       "      <td>0</td>\n",
       "      <td>0</td>\n",
       "      <td>0</td>\n",
       "      <td>...</td>\n",
       "      <td>0</td>\n",
       "      <td>0</td>\n",
       "      <td>0</td>\n",
       "      <td>0</td>\n",
       "      <td>0</td>\n",
       "      <td>0</td>\n",
       "      <td>0</td>\n",
       "      <td>0</td>\n",
       "      <td>0</td>\n",
       "      <td>0</td>\n",
       "    </tr>\n",
       "    <tr>\n",
       "      <th>3</th>\n",
       "      <td>0</td>\n",
       "      <td>0</td>\n",
       "      <td>0</td>\n",
       "      <td>0</td>\n",
       "      <td>0</td>\n",
       "      <td>0</td>\n",
       "      <td>0</td>\n",
       "      <td>0</td>\n",
       "      <td>0</td>\n",
       "      <td>0</td>\n",
       "      <td>...</td>\n",
       "      <td>0</td>\n",
       "      <td>0</td>\n",
       "      <td>0</td>\n",
       "      <td>0</td>\n",
       "      <td>0</td>\n",
       "      <td>0</td>\n",
       "      <td>0</td>\n",
       "      <td>0</td>\n",
       "      <td>0</td>\n",
       "      <td>0</td>\n",
       "    </tr>\n",
       "    <tr>\n",
       "      <th>4</th>\n",
       "      <td>0</td>\n",
       "      <td>0</td>\n",
       "      <td>0</td>\n",
       "      <td>0</td>\n",
       "      <td>0</td>\n",
       "      <td>0</td>\n",
       "      <td>0</td>\n",
       "      <td>0</td>\n",
       "      <td>0</td>\n",
       "      <td>0</td>\n",
       "      <td>...</td>\n",
       "      <td>0</td>\n",
       "      <td>0</td>\n",
       "      <td>0</td>\n",
       "      <td>0</td>\n",
       "      <td>0</td>\n",
       "      <td>0</td>\n",
       "      <td>0</td>\n",
       "      <td>0</td>\n",
       "      <td>0</td>\n",
       "      <td>0</td>\n",
       "    </tr>\n",
       "  </tbody>\n",
       "</table>\n",
       "<p>5 rows × 250 columns</p>\n",
       "</div>"
      ],
      "text/plain": [
       "   1.0  2.0  3.0  4.0  6.0  8.0  9.0  11.0  12.0  13.0  ...  374.0  375.0  \\\n",
       "0    0    0    0    0    0    0    0     0     0     0  ...      0      0   \n",
       "1    0    0    0    0    0    0    0     0     0     0  ...      0      0   \n",
       "2    0    0    0    0    0    0    0     0     0     0  ...      0      0   \n",
       "3    0    0    0    0    0    0    0     0     0     0  ...      0      0   \n",
       "4    0    0    0    0    0    0    0     0     0     0  ...      0      0   \n",
       "\n",
       "   402.0  435.0  468.0  469.0  470.0  471.0  472.0     \n",
       "0      0      0      0      0      0      0      0  0  \n",
       "1      0      0      0      0      0      0      0  0  \n",
       "2      0      0      0      0      0      0      0  0  \n",
       "3      0      0      0      0      0      0      0  0  \n",
       "4      0      0      0      0      0      0      0  0  \n",
       "\n",
       "[5 rows x 250 columns]"
      ]
     },
     "execution_count": 17,
     "metadata": {},
     "output_type": "execute_result"
    }
   ],
   "source": [
    "# create df with dummies\n",
    "dummy_df = pd.get_dummies(merged_df['topic_list'].apply(pd.Series).stack()).sum(level=0)\n",
    "dummy_df.head()"
   ]
  },
  {
   "cell_type": "code",
   "execution_count": 18,
   "metadata": {},
   "outputs": [
    {
     "data": {
      "text/html": [
       "<div>\n",
       "<style scoped>\n",
       "    .dataframe tbody tr th:only-of-type {\n",
       "        vertical-align: middle;\n",
       "    }\n",
       "\n",
       "    .dataframe tbody tr th {\n",
       "        vertical-align: top;\n",
       "    }\n",
       "\n",
       "    .dataframe thead th {\n",
       "        text-align: right;\n",
       "    }\n",
       "</style>\n",
       "<table border=\"1\" class=\"dataframe\">\n",
       "  <thead>\n",
       "    <tr style=\"text-align: right;\">\n",
       "      <th></th>\n",
       "      <th>featured</th>\n",
       "      <th>weekday</th>\n",
       "      <th>len_name</th>\n",
       "      <th>len_description</th>\n",
       "      <th>post_id</th>\n",
       "      <th>reviews_rating</th>\n",
       "      <th>topics_count</th>\n",
       "      <th>topic_list</th>\n",
       "      <th>newest_topic_year</th>\n",
       "      <th>total_topics_posts</th>\n",
       "      <th>...</th>\n",
       "      <th>374.0</th>\n",
       "      <th>375.0</th>\n",
       "      <th>402.0</th>\n",
       "      <th>435.0</th>\n",
       "      <th>468.0</th>\n",
       "      <th>469.0</th>\n",
       "      <th>470.0</th>\n",
       "      <th>471.0</th>\n",
       "      <th>472.0</th>\n",
       "      <th></th>\n",
       "    </tr>\n",
       "  </thead>\n",
       "  <tbody>\n",
       "    <tr>\n",
       "      <th>0</th>\n",
       "      <td>0</td>\n",
       "      <td>4</td>\n",
       "      <td>28</td>\n",
       "      <td>159</td>\n",
       "      <td>285247</td>\n",
       "      <td>0.0</td>\n",
       "      <td>1</td>\n",
       "      <td>[46]</td>\n",
       "      <td>2016</td>\n",
       "      <td>42928</td>\n",
       "      <td>...</td>\n",
       "      <td>0</td>\n",
       "      <td>0</td>\n",
       "      <td>0</td>\n",
       "      <td>0</td>\n",
       "      <td>0</td>\n",
       "      <td>0</td>\n",
       "      <td>0</td>\n",
       "      <td>0</td>\n",
       "      <td>0</td>\n",
       "      <td>0</td>\n",
       "    </tr>\n",
       "    <tr>\n",
       "      <th>1</th>\n",
       "      <td>0</td>\n",
       "      <td>4</td>\n",
       "      <td>17</td>\n",
       "      <td>261</td>\n",
       "      <td>285246</td>\n",
       "      <td>0.0</td>\n",
       "      <td>1</td>\n",
       "      <td>[46]</td>\n",
       "      <td>2016</td>\n",
       "      <td>42928</td>\n",
       "      <td>...</td>\n",
       "      <td>0</td>\n",
       "      <td>0</td>\n",
       "      <td>0</td>\n",
       "      <td>0</td>\n",
       "      <td>0</td>\n",
       "      <td>0</td>\n",
       "      <td>0</td>\n",
       "      <td>0</td>\n",
       "      <td>0</td>\n",
       "      <td>0</td>\n",
       "    </tr>\n",
       "    <tr>\n",
       "      <th>2</th>\n",
       "      <td>0</td>\n",
       "      <td>4</td>\n",
       "      <td>28</td>\n",
       "      <td>256</td>\n",
       "      <td>285245</td>\n",
       "      <td>0.0</td>\n",
       "      <td>4</td>\n",
       "      <td>[46, 108, 268, 352]</td>\n",
       "      <td>2016</td>\n",
       "      <td>174059</td>\n",
       "      <td>...</td>\n",
       "      <td>0</td>\n",
       "      <td>0</td>\n",
       "      <td>0</td>\n",
       "      <td>0</td>\n",
       "      <td>0</td>\n",
       "      <td>0</td>\n",
       "      <td>0</td>\n",
       "      <td>0</td>\n",
       "      <td>0</td>\n",
       "      <td>0</td>\n",
       "    </tr>\n",
       "    <tr>\n",
       "      <th>3</th>\n",
       "      <td>0</td>\n",
       "      <td>4</td>\n",
       "      <td>37</td>\n",
       "      <td>180</td>\n",
       "      <td>285244</td>\n",
       "      <td>0.0</td>\n",
       "      <td>2</td>\n",
       "      <td>[164, 352]</td>\n",
       "      <td>2016</td>\n",
       "      <td>140349</td>\n",
       "      <td>...</td>\n",
       "      <td>0</td>\n",
       "      <td>0</td>\n",
       "      <td>0</td>\n",
       "      <td>0</td>\n",
       "      <td>0</td>\n",
       "      <td>0</td>\n",
       "      <td>0</td>\n",
       "      <td>0</td>\n",
       "      <td>0</td>\n",
       "      <td>0</td>\n",
       "    </tr>\n",
       "    <tr>\n",
       "      <th>4</th>\n",
       "      <td>0</td>\n",
       "      <td>4</td>\n",
       "      <td>9</td>\n",
       "      <td>122</td>\n",
       "      <td>285243</td>\n",
       "      <td>0.0</td>\n",
       "      <td>2</td>\n",
       "      <td>[46, 272]</td>\n",
       "      <td>2016</td>\n",
       "      <td>45451</td>\n",
       "      <td>...</td>\n",
       "      <td>0</td>\n",
       "      <td>0</td>\n",
       "      <td>0</td>\n",
       "      <td>0</td>\n",
       "      <td>0</td>\n",
       "      <td>0</td>\n",
       "      <td>0</td>\n",
       "      <td>0</td>\n",
       "      <td>0</td>\n",
       "      <td>0</td>\n",
       "    </tr>\n",
       "  </tbody>\n",
       "</table>\n",
       "<p>5 rows × 261 columns</p>\n",
       "</div>"
      ],
      "text/plain": [
       "   featured  weekday  len_name  len_description  post_id  reviews_rating  \\\n",
       "0         0        4        28              159   285247             0.0   \n",
       "1         0        4        17              261   285246             0.0   \n",
       "2         0        4        28              256   285245             0.0   \n",
       "3         0        4        37              180   285244             0.0   \n",
       "4         0        4         9              122   285243             0.0   \n",
       "\n",
       "   topics_count           topic_list  newest_topic_year  total_topics_posts  \\\n",
       "0             1                 [46]               2016               42928   \n",
       "1             1                 [46]               2016               42928   \n",
       "2             4  [46, 108, 268, 352]               2016              174059   \n",
       "3             2           [164, 352]               2016              140349   \n",
       "4             2            [46, 272]               2016               45451   \n",
       "\n",
       "   ...  374.0  375.0  402.0  435.0  468.0  469.0  470.0  471.0  472.0     \n",
       "0  ...      0      0      0      0      0      0      0      0      0  0  \n",
       "1  ...      0      0      0      0      0      0      0      0      0  0  \n",
       "2  ...      0      0      0      0      0      0      0      0      0  0  \n",
       "3  ...      0      0      0      0      0      0      0      0      0  0  \n",
       "4  ...      0      0      0      0      0      0      0      0      0  0  \n",
       "\n",
       "[5 rows x 261 columns]"
      ]
     },
     "execution_count": 18,
     "metadata": {},
     "output_type": "execute_result"
    }
   ],
   "source": [
    "# Add dummies\n",
    "merged_df_with_dummies = pd.merge(merged_df, dummy_df, left_index=True, right_index=True, how='left')\n",
    "merged_df_with_dummies.head()"
   ]
  },
  {
   "cell_type": "code",
   "execution_count": 19,
   "metadata": {},
   "outputs": [],
   "source": [
    "# Create bins for Likelihood chart"
   ]
  },
  {
   "cell_type": "code",
   "execution_count": 20,
   "metadata": {},
   "outputs": [],
   "source": [
    "# creating bins\n",
    "bins = [0, 0.00000000001, 5, 10, 20]\n",
    "labels = ['0', '1-5', '6-10', '11-20']\n",
    "merged_df['binned_topics_count'] = pd.cut(merged_df['topics_count'], bins=bins, labels=labels)"
   ]
  },
  {
   "cell_type": "code",
   "execution_count": 21,
   "metadata": {},
   "outputs": [],
   "source": [
    "# creating bins\n",
    "bins = [0, 0.00000000001, 5, 10, 50]\n",
    "labels = ['0', '1-5', '6-10', '11-50']\n",
    "merged_df['binned_len_name'] = pd.cut(merged_df['len_name'], bins=bins, labels=labels)"
   ]
  },
  {
   "cell_type": "code",
   "execution_count": 22,
   "metadata": {},
   "outputs": [],
   "source": [
    "# creating bins\n",
    "bins = [0, 0.00000000001, 100, 200, 300, 400, 500]\n",
    "labels = ['0', '1-100', '101-200', '201-300', '301-400', '401-500']\n",
    "merged_df['binned_len_description'] = pd.cut(merged_df['len_description'], bins=bins, labels=labels)"
   ]
  },
  {
   "cell_type": "code",
   "execution_count": 23,
   "metadata": {},
   "outputs": [],
   "source": [
    "# creating bins\n",
    "bins = [-1, 0,  1, 2, 3, 4, 5]\n",
    "labels = ['0', '0-1', '1-2', '2-3', '3-4', '4-5']\n",
    "merged_df['binned_reviews_rating'] = pd.cut(merged_df['reviews_rating'], bins=bins, labels=labels)"
   ]
  },
  {
   "cell_type": "code",
   "execution_count": 24,
   "metadata": {},
   "outputs": [],
   "source": [
    "# creating bins\n",
    "bins = [-1, 0, 100000, 200000, 300000, 400000]\n",
    "labels = ['0', '0-100k', '100-200k', '200-300k', '300-400k']\n",
    "merged_df['binned_total_topics_posts'] = pd.cut(merged_df['total_topics_posts'], bins=bins, labels=labels)"
   ]
  },
  {
   "cell_type": "code",
   "execution_count": 25,
   "metadata": {},
   "outputs": [],
   "source": [
    "# creating bins\n",
    "bins = [-1, 0, 0.5*1000000, 1*1000000, 1.5*1000000, 2*1000000, 2.5*1000000]\n",
    "labels = ['0', '0-500k', '0.5-1 Mio.', '1-1.5 Mio', '1.5-2 Mio', '2-2.5 Mio']\n",
    "merged_df['binned_total_total_topics_followers'] = pd.cut(merged_df['total_topics_followers'], bins=bins, labels=labels)"
   ]
  },
  {
   "cell_type": "code",
   "execution_count": 26,
   "metadata": {},
   "outputs": [],
   "source": [
    "merged_df = merged_df.fillna('0')"
   ]
  },
  {
   "cell_type": "code",
   "execution_count": 27,
   "metadata": {},
   "outputs": [],
   "source": [
    "# Create bins for Likelihood Numbers"
   ]
  },
  {
   "cell_type": "code",
   "execution_count": 28,
   "metadata": {},
   "outputs": [],
   "source": [
    "# creating bins\n",
    "bins = [0, 0.00000000001, 5, 10, 20]\n",
    "labels = [0, 5, 10, 20]\n",
    "merged_df['binned_topics_count_numeric'] = pd.cut(merged_df['topics_count'], bins=bins, labels=labels)"
   ]
  },
  {
   "cell_type": "code",
   "execution_count": 29,
   "metadata": {},
   "outputs": [],
   "source": [
    "# creating bins\n",
    "bins = [0, 0.00000000001, 5, 10, 50]\n",
    "labels = [0, 5, 10, 50]\n",
    "merged_df['binned_len_name_numeric'] = pd.cut(merged_df['len_name'], bins=bins, labels=labels)"
   ]
  },
  {
   "cell_type": "code",
   "execution_count": 30,
   "metadata": {},
   "outputs": [],
   "source": [
    "# creating bins\n",
    "bins = [0, 0.00000000001, 100, 200, 300, 400, 500]\n",
    "labels = [0, 100, 200, 300, 400, 500]\n",
    "merged_df['binned_len_description_numeric'] = pd.cut(merged_df['len_description'], bins=bins, labels=labels)"
   ]
  },
  {
   "cell_type": "code",
   "execution_count": 31,
   "metadata": {},
   "outputs": [],
   "source": [
    "# creating bins\n",
    "bins = [-1, 0,  1, 2, 3, 4, 5]\n",
    "labels = [0,  1, 2, 3, 4, 5]\n",
    "merged_df['binned_reviews_rating_numeric'] = pd.cut(merged_df['reviews_rating'], bins=bins, labels=labels)"
   ]
  },
  {
   "cell_type": "code",
   "execution_count": 32,
   "metadata": {},
   "outputs": [],
   "source": [
    "# creating bins\n",
    "bins = [-1, 0, 100000, 200000, 300000, 400000]\n",
    "labels = [0, 100000, 200000, 300000, 400000]\n",
    "merged_df['binned_total_topics_posts_numeric'] = pd.cut(merged_df['total_topics_posts'], bins=bins, labels=labels)"
   ]
  },
  {
   "cell_type": "code",
   "execution_count": 33,
   "metadata": {},
   "outputs": [],
   "source": [
    "# creating bins\n",
    "bins = [-1, 0, 0.5*1000000, 1*1000000, 1.5*1000000, 2*1000000, 2.5*1000000]\n",
    "labels = [0, 0.5*1000000, 1*1000000, 1.5*1000000, 2*1000000, 2.5*1000000]\n",
    "merged_df['binned_total_total_topics_followers_numeric'] = pd.cut(merged_df['total_topics_followers'], bins=bins, labels=labels)"
   ]
  },
  {
   "cell_type": "code",
   "execution_count": 34,
   "metadata": {},
   "outputs": [],
   "source": [
    "merged_df = merged_df.fillna({'binned_topics_count_numeric':0,\n",
    "                              'binned_len_name_numeric':0,\n",
    "                              'binned_len_description_numeric':0,\n",
    "                              'binned_reviews_rating_numeric':0,\n",
    "                              'binned_total_topics_posts_numeric':0, \n",
    "                              'binned_total_total_topics_followers_numeric':0\n",
    "                             })"
   ]
  },
  {
   "cell_type": "code",
   "execution_count": 35,
   "metadata": {},
   "outputs": [],
   "source": [
    "merged_df.to_csv('/Users/theresawohlsen/code/bi/merged_df.csv')"
   ]
  },
  {
   "cell_type": "code",
   "execution_count": 36,
   "metadata": {},
   "outputs": [
    {
     "data": {
      "text/plain": [
       "Index(['featured', 'weekday', 'len_name', 'len_description', 'post_id',\n",
       "       'reviews_rating', 'topics_count', 'topic_list', 'newest_topic_year',\n",
       "       'total_topics_posts', 'total_topics_followers', 'binned_topics_count',\n",
       "       'binned_len_name', 'binned_len_description', 'binned_reviews_rating',\n",
       "       'binned_total_topics_posts', 'binned_total_total_topics_followers',\n",
       "       'binned_topics_count_numeric', 'binned_len_name_numeric',\n",
       "       'binned_len_description_numeric', 'binned_reviews_rating_numeric',\n",
       "       'binned_total_topics_posts_numeric',\n",
       "       'binned_total_total_topics_followers_numeric'],\n",
       "      dtype='object')"
      ]
     },
     "execution_count": 36,
     "metadata": {},
     "output_type": "execute_result"
    }
   ],
   "source": [
    "merged_df.columns"
   ]
  },
  {
   "cell_type": "markdown",
   "metadata": {},
   "source": [
    "## Data Exploration"
   ]
  },
  {
   "cell_type": "markdown",
   "metadata": {},
   "source": [
    "### Functions to explore dfs"
   ]
  },
  {
   "cell_type": "code",
   "execution_count": 37,
   "metadata": {},
   "outputs": [],
   "source": [
    "def explore_df(df):\n",
    "    print(\"Shape: \")\n",
    "    print(df.shape)\n",
    "    print(\"------------------------------------------\")\n",
    "    \n",
    "    print(\"Head: \")\n",
    "    print(df.head())\n",
    "    print(\"------------------------------------------\")\n",
    "    \n",
    "    print(\"Tail: \")\n",
    "    print(df.tail() )     \n",
    "    print(\"------------------------------------------\")\n",
    "    \n",
    "    print(\"Describe: \")\n",
    "    print(df.describe())\n",
    "    print(\"------------------------------------------\")\n",
    "    \n",
    "    print(\"Info: \")   \n",
    "    print(df.info())\n",
    "    print(\"------------------------------------------\")\n",
    "    \n",
    "    print(\"Missing Values: \")   \n",
    "    print(df.isna().sum())\n",
    "    print(\"------------------------------------------\")\n",
    "    \n",
    "    print(\"Info: \")   \n",
    "    print(df.info())\n",
    "    print(\"------------------------------------------\")\n",
    "    "
   ]
  },
  {
   "cell_type": "code",
   "execution_count": 79,
   "metadata": {},
   "outputs": [],
   "source": [
    "def create_correlation_matrix(df):\n",
    "    # Compute the correlation matrix\n",
    "    corr = df.corr()\n",
    "\n",
    "    # Set up the matplotlib figure\n",
    "    f, ax = plt.subplots(figsize=(11, 9))\n",
    "\n",
    "    # Generate a custom diverging colormap\n",
    "    cmap = sns.diverging_palette(230, 20, as_cmap=True)\n",
    "\n",
    "    # Draw the heatmap  correct aspect ratio\n",
    "    sns.heatmap(corr, cmap=cmap, vmax=1, center=0,\n",
    "                square=True, linewidths=.5, cbar_kws={\"shrink\": .5})"
   ]
  },
  {
   "cell_type": "code",
   "execution_count": 39,
   "metadata": {},
   "outputs": [],
   "source": [
    "def create_count_plots(df,columns):\n",
    "    for feature in columns:\n",
    "        sns.countplot(x=feature, data=df, color=\"orangered\")\n",
    "        plt.show()"
   ]
  },
  {
   "cell_type": "code",
   "execution_count": 40,
   "metadata": {},
   "outputs": [],
   "source": [
    "def create_histogram(df, columns):\n",
    "    for feature in columns:\n",
    "        print(feature)\n",
    "        df[feature].hist(color=\"orangered\")\n",
    "        plt.show()"
   ]
  },
  {
   "cell_type": "markdown",
   "metadata": {},
   "source": [
    "###  Data Exploration"
   ]
  },
  {
   "cell_type": "code",
   "execution_count": 41,
   "metadata": {},
   "outputs": [
    {
     "name": "stdout",
     "output_type": "stream",
     "text": [
      "Shape: \n",
      "(28000, 23)\n",
      "------------------------------------------\n",
      "Head: \n",
      "   featured  weekday  len_name  len_description  post_id  reviews_rating  \\\n",
      "0         0        4        28              159   285247             0.0   \n",
      "1         0        4        17              261   285246             0.0   \n",
      "2         0        4        28              256   285245             0.0   \n",
      "3         0        4        37              180   285244             0.0   \n",
      "4         0        4         9              122   285243             0.0   \n",
      "\n",
      "   topics_count           topic_list  newest_topic_year  total_topics_posts  \\\n",
      "0             1                 [46]               2016               42928   \n",
      "1             1                 [46]               2016               42928   \n",
      "2             4  [46, 108, 268, 352]               2016              174059   \n",
      "3             2           [164, 352]               2016              140349   \n",
      "4             2            [46, 272]               2016               45451   \n",
      "\n",
      "   ...  binned_len_description binned_reviews_rating  \\\n",
      "0  ...                 101-200                     0   \n",
      "1  ...                 201-300                     0   \n",
      "2  ...                 201-300                     0   \n",
      "3  ...                 101-200                     0   \n",
      "4  ...                 101-200                     0   \n",
      "\n",
      "  binned_total_topics_posts binned_total_total_topics_followers  \\\n",
      "0                    0-100k                              0-500k   \n",
      "1                    0-100k                              0-500k   \n",
      "2                  100-200k                           1-1.5 Mio   \n",
      "3                  100-200k                          0.5-1 Mio.   \n",
      "4                    0-100k                              0-500k   \n",
      "\n",
      "  binned_topics_count_numeric binned_len_name_numeric  \\\n",
      "0                           5                      50   \n",
      "1                           5                      50   \n",
      "2                           5                      50   \n",
      "3                           5                      50   \n",
      "4                           5                      10   \n",
      "\n",
      "  binned_len_description_numeric binned_reviews_rating_numeric  \\\n",
      "0                            200                             0   \n",
      "1                            300                             0   \n",
      "2                            300                             0   \n",
      "3                            200                             0   \n",
      "4                            200                             0   \n",
      "\n",
      "  binned_total_topics_posts_numeric  \\\n",
      "0                            100000   \n",
      "1                            100000   \n",
      "2                            200000   \n",
      "3                            200000   \n",
      "4                            100000   \n",
      "\n",
      "  binned_total_total_topics_followers_numeric  \n",
      "0                                    500000.0  \n",
      "1                                    500000.0  \n",
      "2                                   1500000.0  \n",
      "3                                   1000000.0  \n",
      "4                                    500000.0  \n",
      "\n",
      "[5 rows x 23 columns]\n",
      "------------------------------------------\n",
      "Tail: \n",
      "       featured  weekday  len_name  len_description  post_id  reviews_rating  \\\n",
      "27995         1        3         6              161   198134             4.2   \n",
      "27996         1        3        13              257   198067             5.0   \n",
      "27997         1        3        17              251   198217             5.0   \n",
      "27998         1        3        38              154   198147             5.0   \n",
      "27999         0        3        26              198   196573             5.0   \n",
      "\n",
      "       topics_count            topic_list  newest_topic_year  \\\n",
      "27995             3          [16, 34, 46]               2016   \n",
      "27996             3         [21, 41, 237]               2016   \n",
      "27997             3         [21, 46, 256]               2016   \n",
      "27998             3         [46, 82, 157]               2016   \n",
      "27999             4  [164, 206, 278, 402]               2019   \n",
      "\n",
      "       total_topics_posts  ...  binned_len_description binned_reviews_rating  \\\n",
      "27995               47447  ...                 101-200                   4-5   \n",
      "27996               33544  ...                 201-300                   4-5   \n",
      "27997               70958  ...                 201-300                   4-5   \n",
      "27998               44356  ...                 101-200                   4-5   \n",
      "27999               30555  ...                 101-200                   4-5   \n",
      "\n",
      "      binned_total_topics_posts binned_total_total_topics_followers  \\\n",
      "27995                    0-100k                              0-500k   \n",
      "27996                    0-100k                              0-500k   \n",
      "27997                    0-100k                          0.5-1 Mio.   \n",
      "27998                    0-100k                              0-500k   \n",
      "27999                    0-100k                              0-500k   \n",
      "\n",
      "      binned_topics_count_numeric binned_len_name_numeric  \\\n",
      "27995                           5                      10   \n",
      "27996                           5                      50   \n",
      "27997                           5                      50   \n",
      "27998                           5                      50   \n",
      "27999                           5                      50   \n",
      "\n",
      "      binned_len_description_numeric binned_reviews_rating_numeric  \\\n",
      "27995                            200                             5   \n",
      "27996                            300                             5   \n",
      "27997                            300                             5   \n",
      "27998                            200                             5   \n",
      "27999                            200                             5   \n",
      "\n",
      "      binned_total_topics_posts_numeric  \\\n",
      "27995                            100000   \n",
      "27996                            100000   \n",
      "27997                            100000   \n",
      "27998                            100000   \n",
      "27999                            100000   \n",
      "\n",
      "      binned_total_total_topics_followers_numeric  \n",
      "27995                                    500000.0  \n",
      "27996                                    500000.0  \n",
      "27997                                   1000000.0  \n",
      "27998                                    500000.0  \n",
      "27999                                    500000.0  \n",
      "\n",
      "[5 rows x 23 columns]\n",
      "------------------------------------------\n",
      "Describe: \n",
      "           featured       weekday      len_name  len_description  \\\n",
      "count  28000.000000  28000.000000  28000.000000     28000.000000   \n",
      "mean       0.274214      2.496321     16.930679       202.204893   \n",
      "std        0.446125      1.833410     10.166833        72.593833   \n",
      "min        0.000000      0.000000      1.000000         1.000000   \n",
      "25%        0.000000      1.000000      9.000000       163.000000   \n",
      "50%        0.000000      2.000000     14.000000       222.000000   \n",
      "75%        1.000000      4.000000     24.000000       252.000000   \n",
      "max        1.000000      6.000000     64.000000      5000.000000   \n",
      "\n",
      "             post_id  reviews_rating  topics_count  newest_topic_year  \\\n",
      "count   28000.000000    28000.000000  28000.000000       28000.000000   \n",
      "mean   247895.292321        1.623046      2.667536        1909.549250   \n",
      "std     30860.415047        2.297095      1.901632         451.271695   \n",
      "min    142977.000000        0.000000      0.000000           0.000000   \n",
      "25%    213919.750000        0.000000      1.000000        2016.000000   \n",
      "50%    261437.500000        0.000000      2.000000        2016.000000   \n",
      "75%    275952.250000        5.000000      4.000000        2016.000000   \n",
      "max    285247.000000        5.000000     20.000000        2020.000000   \n",
      "\n",
      "       total_topics_posts  total_topics_followers  \n",
      "count        28000.000000            2.800000e+04  \n",
      "mean         68853.084179            4.345053e+05  \n",
      "std          63457.948830            3.509338e+05  \n",
      "min              0.000000            0.000000e+00  \n",
      "25%          18992.500000            1.555778e+05  \n",
      "50%          45038.000000            3.781430e+05  \n",
      "75%         118701.250000            6.456988e+05  \n",
      "max         432826.000000            3.049142e+06  \n",
      "------------------------------------------\n",
      "Info: \n",
      "<class 'pandas.core.frame.DataFrame'>\n",
      "Int64Index: 28000 entries, 0 to 27999\n",
      "Data columns (total 23 columns):\n",
      " #   Column                                       Non-Null Count  Dtype   \n",
      "---  ------                                       --------------  -----   \n",
      " 0   featured                                     28000 non-null  int64   \n",
      " 1   weekday                                      28000 non-null  int64   \n",
      " 2   len_name                                     28000 non-null  int64   \n",
      " 3   len_description                              28000 non-null  int64   \n",
      " 4   post_id                                      28000 non-null  int64   \n",
      " 5   reviews_rating                               28000 non-null  float64 \n",
      " 6   topics_count                                 28000 non-null  int64   \n",
      " 7   topic_list                                   28000 non-null  object  \n",
      " 8   newest_topic_year                            28000 non-null  int64   \n",
      " 9   total_topics_posts                           28000 non-null  int64   \n",
      " 10  total_topics_followers                       28000 non-null  int64   \n",
      " 11  binned_topics_count                          28000 non-null  category\n",
      " 12  binned_len_name                              28000 non-null  category\n",
      " 13  binned_len_description                       28000 non-null  category\n",
      " 14  binned_reviews_rating                        28000 non-null  category\n",
      " 15  binned_total_topics_posts                    28000 non-null  category\n",
      " 16  binned_total_total_topics_followers          28000 non-null  category\n",
      " 17  binned_topics_count_numeric                  28000 non-null  category\n",
      " 18  binned_len_name_numeric                      28000 non-null  category\n",
      " 19  binned_len_description_numeric               28000 non-null  category\n",
      " 20  binned_reviews_rating_numeric                28000 non-null  category\n",
      " 21  binned_total_topics_posts_numeric            28000 non-null  category\n",
      " 22  binned_total_total_topics_followers_numeric  28000 non-null  category\n",
      "dtypes: category(12), float64(1), int64(9), object(1)\n",
      "memory usage: 2.9+ MB\n",
      "None\n",
      "------------------------------------------\n",
      "Missing Values: \n",
      "featured                                       0\n",
      "weekday                                        0\n",
      "len_name                                       0\n",
      "len_description                                0\n",
      "post_id                                        0\n",
      "reviews_rating                                 0\n",
      "topics_count                                   0\n",
      "topic_list                                     0\n",
      "newest_topic_year                              0\n",
      "total_topics_posts                             0\n",
      "total_topics_followers                         0\n",
      "binned_topics_count                            0\n",
      "binned_len_name                                0\n",
      "binned_len_description                         0\n",
      "binned_reviews_rating                          0\n",
      "binned_total_topics_posts                      0\n",
      "binned_total_total_topics_followers            0\n",
      "binned_topics_count_numeric                    0\n",
      "binned_len_name_numeric                        0\n",
      "binned_len_description_numeric                 0\n",
      "binned_reviews_rating_numeric                  0\n",
      "binned_total_topics_posts_numeric              0\n",
      "binned_total_total_topics_followers_numeric    0\n",
      "dtype: int64\n",
      "------------------------------------------\n",
      "Info: \n",
      "<class 'pandas.core.frame.DataFrame'>\n",
      "Int64Index: 28000 entries, 0 to 27999\n",
      "Data columns (total 23 columns):\n",
      " #   Column                                       Non-Null Count  Dtype   \n",
      "---  ------                                       --------------  -----   \n",
      " 0   featured                                     28000 non-null  int64   \n",
      " 1   weekday                                      28000 non-null  int64   \n",
      " 2   len_name                                     28000 non-null  int64   \n",
      " 3   len_description                              28000 non-null  int64   \n",
      " 4   post_id                                      28000 non-null  int64   \n",
      " 5   reviews_rating                               28000 non-null  float64 \n",
      " 6   topics_count                                 28000 non-null  int64   \n",
      " 7   topic_list                                   28000 non-null  object  \n",
      " 8   newest_topic_year                            28000 non-null  int64   \n",
      " 9   total_topics_posts                           28000 non-null  int64   \n",
      " 10  total_topics_followers                       28000 non-null  int64   \n",
      " 11  binned_topics_count                          28000 non-null  category\n",
      " 12  binned_len_name                              28000 non-null  category\n",
      " 13  binned_len_description                       28000 non-null  category\n",
      " 14  binned_reviews_rating                        28000 non-null  category\n",
      " 15  binned_total_topics_posts                    28000 non-null  category\n",
      " 16  binned_total_total_topics_followers          28000 non-null  category\n",
      " 17  binned_topics_count_numeric                  28000 non-null  category\n",
      " 18  binned_len_name_numeric                      28000 non-null  category\n",
      " 19  binned_len_description_numeric               28000 non-null  category\n",
      " 20  binned_reviews_rating_numeric                28000 non-null  category\n",
      " 21  binned_total_topics_posts_numeric            28000 non-null  category\n",
      " 22  binned_total_total_topics_followers_numeric  28000 non-null  category\n",
      "dtypes: category(12), float64(1), int64(9), object(1)\n",
      "memory usage: 2.9+ MB\n",
      "None\n",
      "------------------------------------------\n"
     ]
    }
   ],
   "source": [
    "explore_df(merged_df)"
   ]
  },
  {
   "cell_type": "code",
   "execution_count": 42,
   "metadata": {},
   "outputs": [
    {
     "data": {
      "text/plain": [
       "Index(['featured', 'weekday', 'len_name', 'len_description', 'post_id',\n",
       "       'reviews_rating', 'topics_count', 'topic_list', 'newest_topic_year',\n",
       "       'total_topics_posts', 'total_topics_followers', 'binned_topics_count',\n",
       "       'binned_len_name', 'binned_len_description', 'binned_reviews_rating',\n",
       "       'binned_total_topics_posts', 'binned_total_total_topics_followers',\n",
       "       'binned_topics_count_numeric', 'binned_len_name_numeric',\n",
       "       'binned_len_description_numeric', 'binned_reviews_rating_numeric',\n",
       "       'binned_total_topics_posts_numeric',\n",
       "       'binned_total_total_topics_followers_numeric'],\n",
       "      dtype='object')"
      ]
     },
     "execution_count": 42,
     "metadata": {},
     "output_type": "execute_result"
    }
   ],
   "source": [
    "merged_df.columns"
   ]
  },
  {
   "cell_type": "code",
   "execution_count": 43,
   "metadata": {},
   "outputs": [
    {
     "data": {
      "text/plain": [
       "featured                                          int64\n",
       "weekday                                           int64\n",
       "len_name                                          int64\n",
       "len_description                                   int64\n",
       "post_id                                           int64\n",
       "reviews_rating                                  float64\n",
       "topics_count                                      int64\n",
       "topic_list                                       object\n",
       "newest_topic_year                                 int64\n",
       "total_topics_posts                                int64\n",
       "total_topics_followers                            int64\n",
       "binned_topics_count                            category\n",
       "binned_len_name                                category\n",
       "binned_len_description                         category\n",
       "binned_reviews_rating                          category\n",
       "binned_total_topics_posts                      category\n",
       "binned_total_total_topics_followers            category\n",
       "binned_topics_count_numeric                    category\n",
       "binned_len_name_numeric                        category\n",
       "binned_len_description_numeric                 category\n",
       "binned_reviews_rating_numeric                  category\n",
       "binned_total_topics_posts_numeric              category\n",
       "binned_total_total_topics_followers_numeric    category\n",
       "dtype: object"
      ]
     },
     "execution_count": 43,
     "metadata": {},
     "output_type": "execute_result"
    }
   ],
   "source": [
    "merged_df.dtypes"
   ]
  },
  {
   "cell_type": "markdown",
   "metadata": {},
   "source": [
    "<font color=orangered>**Finding:** <br>\n",
    "Some posts have no description. There are no NaNs.</font>"
   ]
  },
  {
   "cell_type": "code",
   "execution_count": 44,
   "metadata": {},
   "outputs": [
    {
     "data": {
      "text/plain": [
       "0    20322\n",
       "1     7678\n",
       "Name: featured, dtype: int64"
      ]
     },
     "execution_count": 44,
     "metadata": {},
     "output_type": "execute_result"
    }
   ],
   "source": [
    "merged_df['featured'].value_counts()"
   ]
  },
  {
   "cell_type": "code",
   "execution_count": 45,
   "metadata": {},
   "outputs": [
    {
     "name": "stdout",
     "output_type": "stream",
     "text": [
      "Percentage of not featured posts:  72.58 %\n",
      "Percentage of not featured posts:  27.42 %\n"
     ]
    }
   ],
   "source": [
    "print(\"Percentage of not featured posts: \",\n",
    "      str(round(len(merged_df[merged_df['featured']==0])/(len(merged_df))*100,2)),\n",
    "      \"%\")\n",
    "print(\"Percentage of not featured posts: \",\n",
    "      str(round(len(merged_df[merged_df['featured']==1])/(len(merged_df))*100,2)),\n",
    "      \"%\")"
   ]
  },
  {
   "cell_type": "markdown",
   "metadata": {},
   "source": [
    "<font color=blue>**Finding:** <br>\n",
    "The classes are inbalanced. With 1981 out of 5580 posts are featured, the dataset is a quite balanced dataset.</font>"
   ]
  },
  {
   "cell_type": "code",
   "execution_count": 46,
   "metadata": {},
   "outputs": [
    {
     "data": {
      "image/png": "[encoded data removed]",
      "text/plain": [
       "<Figure size 432x288 with 1 Axes>"
      ]
     },
     "metadata": {
      "needs_background": "light"
     },
     "output_type": "display_data"
    },
    {
     "data": {
      "image/png": "[encoded data removed]",
      "text/plain": [
       "<Figure size 432x288 with 1 Axes>"
      ]
     },
     "metadata": {
      "needs_background": "light"
     },
     "output_type": "display_data"
    },
    {
     "data": {
      "image/png": "[encoded data removed]",
      "text/plain": [
       "<Figure size 432x288 with 1 Axes>"
      ]
     },
     "metadata": {
      "needs_background": "light"
     },
     "output_type": "display_data"
    }
   ],
   "source": [
    "# Create plots\n",
    "columns = ['featured',  'weekday', 'newest_topic_year']\n",
    "create_count_plots(merged_df, columns)"
   ]
  },
  {
   "cell_type": "code",
   "execution_count": 47,
   "metadata": {},
   "outputs": [
    {
     "name": "stdout",
     "output_type": "stream",
     "text": [
      "topics_count\n"
     ]
    },
    {
     "data": {
      "image/png": "[encoded data removed]",
      "text/plain": [
       "<Figure size 432x288 with 1 Axes>"
      ]
     },
     "metadata": {
      "needs_background": "light"
     },
     "output_type": "display_data"
    },
    {
     "name": "stdout",
     "output_type": "stream",
     "text": [
      "len_name\n"
     ]
    },
    {
     "data": {
      "image/png": "[encoded data removed]",
      "text/plain": [
       "<Figure size 432x288 with 1 Axes>"
      ]
     },
     "metadata": {
      "needs_background": "light"
     },
     "output_type": "display_data"
    },
    {
     "name": "stdout",
     "output_type": "stream",
     "text": [
      "len_description\n"
     ]
    },
    {
     "data": {
      "image/png": "[encoded data removed]",
      "text/plain": [
       "<Figure size 432x288 with 1 Axes>"
      ]
     },
     "metadata": {
      "needs_background": "light"
     },
     "output_type": "display_data"
    },
    {
     "name": "stdout",
     "output_type": "stream",
     "text": [
      "total_topics_posts\n"
     ]
    },
    {
     "data": {
      "image/png": "[encoded data removed]",
      "text/plain": [
       "<Figure size 432x288 with 1 Axes>"
      ]
     },
     "metadata": {
      "needs_background": "light"
     },
     "output_type": "display_data"
    },
    {
     "name": "stdout",
     "output_type": "stream",
     "text": [
      "total_topics_followers\n"
     ]
    },
    {
     "data": {
      "image/png": "[encoded data removed]",
      "text/plain": [
       "<Figure size 432x288 with 1 Axes>"
      ]
     },
     "metadata": {
      "needs_background": "light"
     },
     "output_type": "display_data"
    }
   ],
   "source": [
    "# Create histograms\n",
    "\n",
    "columns = ['topics_count', 'len_name', 'len_description',\n",
    "           'total_topics_posts', 'total_topics_followers']\n",
    "create_histogram(merged_df, columns)"
   ]
  },
  {
   "cell_type": "code",
   "execution_count": 80,
   "metadata": {},
   "outputs": [
    {
     "data": {
      "image/png": "[encoded data removed]",
      "text/plain": [
       "<Figure size 792x648 with 2 Axes>"
      ]
     },
     "metadata": {
      "needs_background": "light"
     },
     "output_type": "display_data"
    }
   ],
   "source": [
    "create_correlation_matrix(merged_df)"
   ]
  },
  {
   "cell_type": "markdown",
   "metadata": {},
   "source": [
    "<font color=blue>**Finding:** <br>\n",
    "It is a balanced dataset.</font>"
   ]
  },
  {
   "cell_type": "markdown",
   "metadata": {},
   "source": [
    "## Machine Learning"
   ]
  },
  {
   "cell_type": "code",
   "execution_count": 49,
   "metadata": {},
   "outputs": [
    {
     "data": {
      "text/plain": [
       "Index(['featured', 'weekday', 'len_name', 'len_description', 'post_id',\n",
       "       'reviews_rating', 'topics_count', 'topic_list', 'newest_topic_year',\n",
       "       'total_topics_posts', 'total_topics_followers', 'binned_topics_count',\n",
       "       'binned_len_name', 'binned_len_description', 'binned_reviews_rating',\n",
       "       'binned_total_topics_posts', 'binned_total_total_topics_followers',\n",
       "       'binned_topics_count_numeric', 'binned_len_name_numeric',\n",
       "       'binned_len_description_numeric', 'binned_reviews_rating_numeric',\n",
       "       'binned_total_topics_posts_numeric',\n",
       "       'binned_total_total_topics_followers_numeric'],\n",
       "      dtype='object')"
      ]
     },
     "execution_count": 49,
     "metadata": {},
     "output_type": "execute_result"
    }
   ],
   "source": [
    "merged_df.columns"
   ]
  },
  {
   "cell_type": "markdown",
   "metadata": {},
   "source": [
    "### Prepare Train / Test Data without dummies"
   ]
  },
  {
   "cell_type": "code",
   "execution_count": 50,
   "metadata": {},
   "outputs": [],
   "source": [
    "features_without_dummies = ['weekday', 'len_name', 'len_description',\n",
    "                            'topics_count', 'reviews_rating',\n",
    "                            'newest_topic_year', 'total_topics_posts', 'total_topics_followers']"
   ]
  },
  {
   "cell_type": "code",
   "execution_count": 51,
   "metadata": {},
   "outputs": [],
   "source": [
    "features = features_without_dummies\n",
    "df = merged_df  \n",
    "    \n",
    "X = df[features].to_numpy()\n",
    "y = df.featured.to_numpy()"
   ]
  },
  {
   "cell_type": "code",
   "execution_count": 52,
   "metadata": {},
   "outputs": [
    {
     "name": "stdout",
     "output_type": "stream",
     "text": [
      "Counter({0: 20322, 1: 7678})\n",
      "Counter({0: 20322, 1: 20322})\n"
     ]
    }
   ],
   "source": [
    "# summarize class distribution\n",
    "counter = Counter(y)\n",
    "print(counter)\n",
    "# transform the dataset\n",
    "oversample = SMOTE()\n",
    "X, y = oversample.fit_resample(X, y)\n",
    "# summarize the new class distribution\n",
    "counter = Counter(y)\n",
    "print(counter)"
   ]
  },
  {
   "cell_type": "code",
   "execution_count": 53,
   "metadata": {},
   "outputs": [],
   "source": [
    "train_x , test_x, train_y, test_y = train_test_split(X,y, test_size=0.3,random_state=0)"
   ]
  },
  {
   "cell_type": "markdown",
   "metadata": {},
   "source": [
    "## Train and Test Model"
   ]
  },
  {
   "cell_type": "code",
   "execution_count": 54,
   "metadata": {},
   "outputs": [],
   "source": [
    "def train_test_model(model,\n",
    "                     train_x=train_x,\n",
    "                     train_y=train_y,\n",
    "                     test_y=test_y,\n",
    "                     test_x=test_x):\n",
    "    start_time = time.time()\n",
    "    model.fit(train_x, train_y)\n",
    "    training_time = time.time()\n",
    "    print('training took %fs!' % (training_time - start_time))\n",
    "\n",
    "    predict = model.predict(test_x)\n",
    "    predict_time = time.time()\n",
    "    print('predicting took %fs!' % (predict_time - training_time))\n",
    "\n",
    "    print(classification_report(test_y, predict))"
   ]
  },
  {
   "cell_type": "code",
   "execution_count": 55,
   "metadata": {},
   "outputs": [
    {
     "name": "stdout",
     "output_type": "stream",
     "text": [
      "training took 0.098250s!\n",
      "predicting took 0.698231s!\n",
      "              precision    recall  f1-score   support\n",
      "\n",
      "           0       0.75      0.65      0.70      6102\n",
      "           1       0.69      0.78      0.74      6092\n",
      "\n",
      "    accuracy                           0.72     12194\n",
      "   macro avg       0.72      0.72      0.72     12194\n",
      "weighted avg       0.72      0.72      0.72     12194\n",
      "\n"
     ]
    }
   ],
   "source": [
    "train_test_model(KNeighborsClassifier())"
   ]
  },
  {
   "cell_type": "code",
   "execution_count": 56,
   "metadata": {},
   "outputs": [
    {
     "name": "stdout",
     "output_type": "stream",
     "text": [
      "training took 111.460616s!\n",
      "predicting took 42.816928s!\n",
      "              precision    recall  f1-score   support\n",
      "\n",
      "           0       0.57      0.58      0.57      6102\n",
      "           1       0.57      0.55      0.56      6092\n",
      "\n",
      "    accuracy                           0.57     12194\n",
      "   macro avg       0.57      0.57      0.57     12194\n",
      "weighted avg       0.57      0.57      0.57     12194\n",
      "\n"
     ]
    }
   ],
   "source": [
    "train_test_model(svm.SVC())"
   ]
  },
  {
   "cell_type": "code",
   "execution_count": 57,
   "metadata": {},
   "outputs": [
    {
     "name": "stdout",
     "output_type": "stream",
     "text": [
      "training took 4.790188s!\n",
      "predicting took 0.004888s!\n",
      "              precision    recall  f1-score   support\n",
      "\n",
      "           0       0.57      0.40      0.47      6102\n",
      "           1       0.54      0.70      0.61      6092\n",
      "\n",
      "    accuracy                           0.55     12194\n",
      "   macro avg       0.55      0.55      0.54     12194\n",
      "weighted avg       0.55      0.55      0.54     12194\n",
      "\n"
     ]
    },
    {
     "name": "stderr",
     "output_type": "stream",
     "text": [
      "/Users/theresawohlsen/opt/anaconda3/lib/python3.8/site-packages/sklearn/svm/_base.py:985: ConvergenceWarning: Liblinear failed to converge, increase the number of iterations.\n",
      "  warnings.warn(\"Liblinear failed to converge, increase \"\n"
     ]
    }
   ],
   "source": [
    "train_test_model(svm.LinearSVC())"
   ]
  },
  {
   "cell_type": "code",
   "execution_count": 58,
   "metadata": {},
   "outputs": [
    {
     "name": "stdout",
     "output_type": "stream",
     "text": [
      "training took 0.245001s!\n",
      "predicting took 0.002863s!\n",
      "              precision    recall  f1-score   support\n",
      "\n",
      "           0       0.82      0.82      0.82      6102\n",
      "           1       0.82      0.82      0.82      6092\n",
      "\n",
      "    accuracy                           0.82     12194\n",
      "   macro avg       0.82      0.82      0.82     12194\n",
      "weighted avg       0.82      0.82      0.82     12194\n",
      "\n"
     ]
    }
   ],
   "source": [
    "train_test_model(DecisionTreeClassifier())"
   ]
  },
  {
   "cell_type": "code",
   "execution_count": 59,
   "metadata": {},
   "outputs": [
    {
     "name": "stdout",
     "output_type": "stream",
     "text": [
      "training took 4.129708s!\n",
      "predicting took 0.261826s!\n",
      "              precision    recall  f1-score   support\n",
      "\n",
      "           0       0.86      0.88      0.87      6102\n",
      "           1       0.88      0.85      0.87      6092\n",
      "\n",
      "    accuracy                           0.87     12194\n",
      "   macro avg       0.87      0.87      0.87     12194\n",
      "weighted avg       0.87      0.87      0.87     12194\n",
      "\n"
     ]
    }
   ],
   "source": [
    "train_test_model(RandomForestClassifier())"
   ]
  },
  {
   "cell_type": "code",
   "execution_count": 60,
   "metadata": {},
   "outputs": [
    {
     "name": "stdout",
     "output_type": "stream",
     "text": [
      "training took 2.637697s!\n",
      "predicting took 0.385635s!\n",
      "              precision    recall  f1-score   support\n",
      "\n",
      "           0       0.86      0.88      0.87      6102\n",
      "           1       0.87      0.86      0.87      6092\n",
      "\n",
      "    accuracy                           0.87     12194\n",
      "   macro avg       0.87      0.87      0.87     12194\n",
      "weighted avg       0.87      0.87      0.87     12194\n",
      "\n"
     ]
    }
   ],
   "source": [
    "train_test_model(ExtraTreesClassifier())"
   ]
  },
  {
   "cell_type": "markdown",
   "metadata": {},
   "source": [
    "### Best performing ML"
   ]
  },
  {
   "cell_type": "code",
   "execution_count": 61,
   "metadata": {},
   "outputs": [
    {
     "name": "stdout",
     "output_type": "stream",
     "text": [
      "training took 3.840646s!\n",
      "predicting took 0.243177s!\n"
     ]
    }
   ],
   "source": [
    "model = RandomForestClassifier()\n",
    "start_time = time.time()\n",
    "model.fit(train_x, train_y)\n",
    "training_time = time.time()\n",
    "print('training took %fs!' % (training_time - start_time))\n",
    "\n",
    "predict = model.predict(test_x)\n",
    "predict_time = time.time()\n",
    "print('predicting took %fs!' % (predict_time - training_time))\n"
   ]
  },
  {
   "cell_type": "code",
   "execution_count": 62,
   "metadata": {},
   "outputs": [
    {
     "data": {
      "text/plain": [
       "array([0.06775823, 0.12998756, 0.10972953, 0.05497206, 0.43833103,\n",
       "       0.01965093, 0.08819446, 0.09137619])"
      ]
     },
     "execution_count": 62,
     "metadata": {},
     "output_type": "execute_result"
    }
   ],
   "source": [
    "model.feature_importances_\n"
   ]
  },
  {
   "cell_type": "code",
   "execution_count": 63,
   "metadata": {},
   "outputs": [
    {
     "data": {
      "text/plain": [
       "<BarContainer object of 8 artists>"
      ]
     },
     "execution_count": 63,
     "metadata": {},
     "output_type": "execute_result"
    },
    {
     "data": {
      "image/png": "[encoded data removed]",
      "text/plain": [
       "<Figure size 432x288 with 1 Axes>"
      ]
     },
     "metadata": {
      "needs_background": "light"
     },
     "output_type": "display_data"
    }
   ],
   "source": [
    "plt.barh(features, model.feature_importances_, color=\"orangered\")"
   ]
  },
  {
   "cell_type": "markdown",
   "metadata": {},
   "source": [
    "### Train and Test with Dummies"
   ]
  },
  {
   "cell_type": "code",
   "execution_count": 65,
   "metadata": {},
   "outputs": [
    {
     "name": "stdout",
     "output_type": "stream",
     "text": [
      "Counter({0: 20322, 1: 7678})\n",
      "Counter({0: 20322, 1: 20322})\n"
     ]
    }
   ],
   "source": [
    "dummy_features = dummy_df.columns.to_list()\n",
    "features_with_dummies = dummy_features + features_without_dummies\n",
    "\n",
    "features = features_with_dummies\n",
    "df = merged_df_with_dummies\n",
    "       \n",
    "X = df[features].to_numpy()\n",
    "y = df.featured.to_numpy()\n",
    "\n",
    "\n",
    "# summarize class distribution\n",
    "counter = Counter(y)\n",
    "print(counter)\n",
    "# transform the dataset\n",
    "oversample = SMOTE()\n",
    "X, y = oversample.fit_resample(X, y)\n",
    "# summarize the new class distribution\n",
    "counter = Counter(y)\n",
    "print(counter)\n",
    "\n",
    "train_x , test_x, train_y, test_y = train_test_split(X,y, test_size=0.3,random_state=0)"
   ]
  },
  {
   "cell_type": "code",
   "execution_count": 66,
   "metadata": {},
   "outputs": [
    {
     "name": "stdout",
     "output_type": "stream",
     "text": [
      "training took 0.076631s!\n",
      "predicting took 0.860834s!\n",
      "              precision    recall  f1-score   support\n",
      "\n",
      "           0       0.75      0.65      0.70      6102\n",
      "           1       0.69      0.78      0.74      6092\n",
      "\n",
      "    accuracy                           0.72     12194\n",
      "   macro avg       0.72      0.72      0.72     12194\n",
      "weighted avg       0.72      0.72      0.72     12194\n",
      "\n"
     ]
    }
   ],
   "source": [
    "train_test_model(KNeighborsClassifier())"
   ]
  },
  {
   "cell_type": "code",
   "execution_count": 67,
   "metadata": {},
   "outputs": [
    {
     "name": "stdout",
     "output_type": "stream",
     "text": [
      "training took 70.793923s!\n",
      "predicting took 41.032881s!\n",
      "              precision    recall  f1-score   support\n",
      "\n",
      "           0       0.57      0.58      0.57      6102\n",
      "           1       0.57      0.55      0.56      6092\n",
      "\n",
      "    accuracy                           0.57     12194\n",
      "   macro avg       0.57      0.57      0.57     12194\n",
      "weighted avg       0.57      0.57      0.57     12194\n",
      "\n"
     ]
    }
   ],
   "source": [
    "train_test_model(svm.SVC())"
   ]
  },
  {
   "cell_type": "code",
   "execution_count": 68,
   "metadata": {},
   "outputs": [
    {
     "name": "stdout",
     "output_type": "stream",
     "text": [
      "training took 4.563649s!\n",
      "predicting took 0.002798s!\n",
      "              precision    recall  f1-score   support\n",
      "\n",
      "           0       0.84      0.27      0.41      6102\n",
      "           1       0.57      0.95      0.71      6092\n",
      "\n",
      "    accuracy                           0.61     12194\n",
      "   macro avg       0.70      0.61      0.56     12194\n",
      "weighted avg       0.70      0.61      0.56     12194\n",
      "\n"
     ]
    },
    {
     "name": "stderr",
     "output_type": "stream",
     "text": [
      "/Users/theresawohlsen/opt/anaconda3/lib/python3.8/site-packages/sklearn/svm/_base.py:985: ConvergenceWarning: Liblinear failed to converge, increase the number of iterations.\n",
      "  warnings.warn(\"Liblinear failed to converge, increase \"\n"
     ]
    }
   ],
   "source": [
    "train_test_model(svm.LinearSVC())"
   ]
  },
  {
   "cell_type": "code",
   "execution_count": 69,
   "metadata": {},
   "outputs": [
    {
     "name": "stdout",
     "output_type": "stream",
     "text": [
      "training took 0.237297s!\n",
      "predicting took 0.004451s!\n",
      "              precision    recall  f1-score   support\n",
      "\n",
      "           0       0.82      0.82      0.82      6102\n",
      "           1       0.82      0.81      0.82      6092\n",
      "\n",
      "    accuracy                           0.82     12194\n",
      "   macro avg       0.82      0.82      0.82     12194\n",
      "weighted avg       0.82      0.82      0.82     12194\n",
      "\n"
     ]
    }
   ],
   "source": [
    "train_test_model(DecisionTreeClassifier())"
   ]
  },
  {
   "cell_type": "code",
   "execution_count": 70,
   "metadata": {},
   "outputs": [
    {
     "name": "stdout",
     "output_type": "stream",
     "text": [
      "training took 3.656161s!\n",
      "predicting took 0.231012s!\n",
      "              precision    recall  f1-score   support\n",
      "\n",
      "           0       0.86      0.88      0.87      6102\n",
      "           1       0.88      0.85      0.87      6092\n",
      "\n",
      "    accuracy                           0.87     12194\n",
      "   macro avg       0.87      0.87      0.87     12194\n",
      "weighted avg       0.87      0.87      0.87     12194\n",
      "\n"
     ]
    }
   ],
   "source": [
    "train_test_model(RandomForestClassifier())"
   ]
  },
  {
   "cell_type": "code",
   "execution_count": 71,
   "metadata": {},
   "outputs": [
    {
     "name": "stdout",
     "output_type": "stream",
     "text": [
      "training took 2.258970s!\n",
      "predicting took 0.508276s!\n",
      "              precision    recall  f1-score   support\n",
      "\n",
      "           0       0.86      0.88      0.87      6102\n",
      "           1       0.88      0.86      0.87      6092\n",
      "\n",
      "    accuracy                           0.87     12194\n",
      "   macro avg       0.87      0.87      0.87     12194\n",
      "weighted avg       0.87      0.87      0.87     12194\n",
      "\n"
     ]
    }
   ],
   "source": [
    "train_test_model(ExtraTreesClassifier())"
   ]
  },
  {
   "cell_type": "markdown",
   "metadata": {},
   "source": [
    "### Likelihood"
   ]
  },
  {
   "cell_type": "code",
   "execution_count": 72,
   "metadata": {},
   "outputs": [],
   "source": [
    "# Liklihood\n",
    "def get_lilklihood(df, feature):\n",
    "    distribution_of_feature = df.groupby([feature,'featured'])['percentage'].sum()\n",
    "    highest_chance = \"\"\n",
    "    chance = 0\n",
    "    for i in range(round(len(distribution_of_feature)/2)):\n",
    "        try:\n",
    "            a = distribution_of_feature[i][0]\n",
    "            b = distribution_of_feature[i][1]\n",
    "            c = round(b / (a+b) *100)\n",
    "            #x = distribution_of_feature[i][1]/likelihood_to_be_featured[1]*100\n",
    "            distribution_of_feature.reset_index\n",
    "            j = i*2\n",
    "            name = distribution_of_feature.index[j][0]\n",
    "            print(\"Liklihood of being featured, when \" + str(name)+ \" is the \"  + feature + \" is: \" + str(c) + \"%\") \n",
    "            if c > chance:\n",
    "                highest_chance =  name\n",
    "                chance = c\n",
    "        except:\n",
    "            pass\n",
    "\n",
    "    print(\"Highest Liklihood of being featured is with \" +\n",
    "          str(highest_chance)+ \" as \"  + feature +\n",
    "          \". Your Chance is: \" + str(chance) + \"%\")   "
   ]
  },
  {
   "cell_type": "code",
   "execution_count": 73,
   "metadata": {},
   "outputs": [],
   "source": [
    "def get_liklihood_charts(df, feature):\n",
    "    plotPercentage = sns.barplot(x=feature, y='featured', hue='featured', color=\"orangered\",\n",
    "                             data=df, estimator=lambda x: len(x) / len(merged_df)*100)\n",
    "    plotPercentage.set(ylabel=\"Post being featured\")\n",
    "    total = float(len(['featured']))\n",
    "    for p in plotPercentage.patches:\n",
    "        height = p.get_height()\n",
    "        plotPercentage.text(p.get_x()+p.get_width()/2.,\n",
    "                            height + 3,\n",
    "                            '{:1.2f}'.format(height/total),\n",
    "                            ha=\"center\") \n",
    "    plt.show()\n",
    "    "
   ]
  },
  {
   "cell_type": "code",
   "execution_count": 74,
   "metadata": {},
   "outputs": [],
   "source": [
    "liklihood_df = merged_df\n",
    "liklihood_df['percentage']= 1/len(liklihood_df)\n",
    "likelihood_to_be_featured = liklihood_df.groupby(['featured'])['percentage'].sum()"
   ]
  },
  {
   "cell_type": "code",
   "execution_count": 75,
   "metadata": {},
   "outputs": [],
   "source": [
    "features_likelihood= ['weekday',\n",
    "                      'binned_topics_count_numeric', \n",
    "                      'binned_len_name_numeric',\n",
    "                      'binned_len_description_numeric', \n",
    "                      'binned_reviews_rating_numeric',\n",
    "                      'binned_total_topics_posts_numeric', \n",
    "                      'binned_total_total_topics_followers_numeric']"
   ]
  },
  {
   "cell_type": "code",
   "execution_count": 76,
   "metadata": {},
   "outputs": [
    {
     "name": "stdout",
     "output_type": "stream",
     "text": [
      "Liklihood of being featured, when 0 is the weekday is: 26.0%\n",
      "Liklihood of being featured, when 1 is the weekday is: 28.0%\n",
      "Liklihood of being featured, when 2 is the weekday is: 28.0%\n",
      "Liklihood of being featured, when 3 is the weekday is: 29.0%\n",
      "Liklihood of being featured, when 4 is the weekday is: 27.0%\n",
      "Liklihood of being featured, when 5 is the weekday is: 22.0%\n",
      "Liklihood of being featured, when 6 is the weekday is: 30.0%\n",
      "Highest Liklihood of being featured is with 6 as weekday. Your Chance is: 30.0%\n",
      "Liklihood of being featured, when 0 is the binned_topics_count_numeric is: 12.0%\n",
      "Highest Liklihood of being featured is with 0 as binned_topics_count_numeric. Your Chance is: 12.0%\n",
      "Liklihood of being featured, when 0 is the binned_len_name_numeric is: nan%\n",
      "Highest Liklihood of being featured is with  as binned_len_name_numeric. Your Chance is: 0%\n",
      "Liklihood of being featured, when 0 is the binned_len_description_numeric is: 8.0%\n",
      "Highest Liklihood of being featured is with 0 as binned_len_description_numeric. Your Chance is: 8.0%\n",
      "Liklihood of being featured, when 0 is the binned_reviews_rating_numeric is: 10.0%\n",
      "Liklihood of being featured, when 1 is the binned_reviews_rating_numeric is: nan%\n",
      "Liklihood of being featured, when 2 is the binned_reviews_rating_numeric is: 93.0%\n",
      "Liklihood of being featured, when 3 is the binned_reviews_rating_numeric is: 90.0%\n",
      "Liklihood of being featured, when 4 is the binned_reviews_rating_numeric is: 94.0%\n",
      "Liklihood of being featured, when 5 is the binned_reviews_rating_numeric is: 59.0%\n",
      "Highest Liklihood of being featured is with 4 as binned_reviews_rating_numeric. Your Chance is: 94.0%\n",
      "Liklihood of being featured, when 0 is the binned_total_topics_posts_numeric is: 12.0%\n",
      "Highest Liklihood of being featured is with 0 as binned_total_topics_posts_numeric. Your Chance is: 12.0%\n",
      "Liklihood of being featured, when 0.0 is the binned_total_total_topics_followers_numeric is: 12.0%\n",
      "Highest Liklihood of being featured is with 0.0 as binned_total_total_topics_followers_numeric. Your Chance is: 12.0%\n"
     ]
    }
   ],
   "source": [
    "for feature in features_likelihood:\n",
    "    get_lilklihood(liklihood_df, feature)"
   ]
  },
  {
   "cell_type": "code",
   "execution_count": 77,
   "metadata": {},
   "outputs": [],
   "source": [
    "features_chart = ['weekday',\n",
    "                  'binned_topics_count',\n",
    "                  'binned_len_name',\n",
    "                  'binned_len_description',\n",
    "                  'binned_reviews_rating',\n",
    "                  'binned_total_topics_posts',\n",
    "                  'binned_total_total_topics_followers']"
   ]
  },
  {
   "cell_type": "code",
   "execution_count": 78,
   "metadata": {},
   "outputs": [
    {
     "data": {
      "image/png": "[encoded data removed]",
      "text/plain": [
       "<Figure size 432x288 with 1 Axes>"
      ]
     },
     "metadata": {
      "needs_background": "light"
     },
     "output_type": "display_data"
    },
    {
     "data": {
      "image/png": "[encoded data removed]",
      "text/plain": [
       "<Figure size 432x288 with 1 Axes>"
      ]
     },
     "metadata": {
      "needs_background": "light"
     },
     "output_type": "display_data"
    },
    {
     "name": "stderr",
     "output_type": "stream",
     "text": [
      "posx and posy should be finite values\n",
      "posx and posy should be finite values\n"
     ]
    },
    {
     "data": {
      "image/png": "[encoded data removed]",
      "text/plain": [
       "<Figure size 432x288 with 1 Axes>"
      ]
     },
     "metadata": {
      "needs_background": "light"
     },
     "output_type": "display_data"
    },
    {
     "data": {
      "image/png": "[encoded data removed]",
      "text/plain": [
       "<Figure size 432x288 with 1 Axes>"
      ]
     },
     "metadata": {
      "needs_background": "light"
     },
     "output_type": "display_data"
    },
    {
     "name": "stderr",
     "output_type": "stream",
     "text": [
      "posx and posy should be finite values\n",
      "posx and posy should be finite values\n"
     ]
    },
    {
     "data": {
      "image/png": "[encoded data removed]",
      "text/plain": [
       "<Figure size 432x288 with 1 Axes>"
      ]
     },
     "metadata": {
      "needs_background": "light"
     },
     "output_type": "display_data"
    },
    {
     "data": {
      "image/png": "[encoded data removed]",
      "text/plain": [
       "<Figure size 432x288 with 1 Axes>"
      ]
     },
     "metadata": {
      "needs_background": "light"
     },
     "output_type": "display_data"
    },
    {
     "data": {
      "image/png": "[encoded data removed]",
      "text/plain": [
       "<Figure size 432x288 with 1 Axes>"
      ]
     },
     "metadata": {
      "needs_background": "light"
     },
     "output_type": "display_data"
    }
   ],
   "source": [
    "for feature in features_chart:\n",
    "    get_liklihood_charts(liklihood_df, feature)"
   ]
  }
 ],
 "metadata": {
  "kernelspec": {
   "display_name": "Python 3",
   "language": "python",
   "name": "python3"
  },
  "language_info": {
   "codemirror_mode": {
    "name": "ipython",
    "version": 3
   },
   "file_extension": ".py",
   "mimetype": "text/x-python",
   "name": "python",
   "nbconvert_exporter": "python",
   "pygments_lexer": "ipython3",
   "version": "3.8.3"
  }
 },
 "nbformat": 4,
 "nbformat_minor": 4
}
